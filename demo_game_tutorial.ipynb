{
 "cells": [
  {
   "cell_type": "markdown",
   "metadata": {
    "collapsed": true
   },
   "source": [
    "# Create Rock,Paper,Scissors game  using python\n",
    "## with result persistance in DynamoDB\n"
   ]
  },
  {
   "cell_type": "markdown",
   "metadata": {},
   "source": [
    "\n",
    "## Step 0 \n",
    "### Prepare database and backend with zappa\n",
    "<li>setup DynamoDB on AWS </li>\n",
    "<i>python setup_dynamodb.py</i><br>\n",
    "\n",
    "<li>from PGIT_exercise_1 catalog perform:</li>\n",
    "<i>cd demo_game</i>\n",
    "<li>create a zappa configuration file by typing (you can leave prompts empty for default selections):</li>\n",
    "<i>zappa init</i>\n",
    "<li>deploy project to AWS lambda (you can leave prompts empty for default selections)</li>\n",
    "<i>zappa deploy dev</i>\n",
    "<li>update project</li>\n",
    "<i>zappa update dev</i>\n",
    "\n",
    "\n",
    "\n",
    "<strong>note down the address of the lambda service you just created, in my case it is: <br>  https://xre0l105mg.execute-api.us-east-1.amazonaws.com/dev </strong>\n"
   ]
  },
  {
   "cell_type": "markdown",
   "metadata": {},
   "source": [
    "<video  width=\"70%\" height=\"auto\" style=\"display:block; margin: 0 auto;\" \n",
    "controls src=\"https://s3-eu-west-1.amazonaws.com/pg-demo-static-01/game/game_zappa_deploy.webm\" \n",
    "\n",
    "\n",
    "/>\n"
   ]
  },
  {
   "cell_type": "markdown",
   "metadata": {},
   "source": [
    "### add alexa trigger to the created lambda function in AWS console"
   ]
  },
  {
   "cell_type": "markdown",
   "metadata": {},
   "source": [
    "<video  width=\"70%\" height=\"auto\" style=\"display:block; margin: 0 auto;\" \n",
    "controls src=\"https://s3-eu-west-1.amazonaws.com/pg-demo-static-01/game/add_lambda_trigger.webm\" \n",
    "\n",
    "\n",
    "/>\n"
   ]
  },
  {
   "cell_type": "markdown",
   "metadata": {},
   "source": [
    "## step I\n",
    "### Create new Skill\n",
    "Login to Amazon Developer Console and create a new Alexa App"
   ]
  },
  {
   "cell_type": "markdown",
   "metadata": {},
   "source": [
    "<video  width=\"70%\" height=\"auto\" style=\"display:block; margin: 0 auto;\" \n",
    "controls src=\"https://s3-eu-west-1.amazonaws.com/pg-demo-static-01/create_skill.webm\" \n",
    "\n",
    "\n",
    "/>\n"
   ]
  },
  {
   "cell_type": "markdown",
   "metadata": {
    "collapsed": true
   },
   "source": [
    "## step II \n",
    "### Fill Skill information\n",
    "Initialize the skill using  Name of your choice. Choose Invocation name for your skill. It will be used to summon the application using \"Alexa, ask paper rock....\""
   ]
  },
  {
   "cell_type": "markdown",
   "metadata": {},
   "source": [
    "<video  width=\"70%\" height=\"auto\" style=\"display:block; margin: 0 auto;\" \n",
    "controls src=\"https://s3-eu-west-1.amazonaws.com/pg-demo-static-01/game/game_skill_information.webm\" \n",
    "\n",
    "\n",
    "/>\n"
   ]
  },
  {
   "cell_type": "markdown",
   "metadata": {},
   "source": [
    "## step III\n",
    "### Design the Interaction Model (from json file)\n",
    "As the application has multiple intents and custom Slot types we propose to create them from enclosed json file hosted on github rather that clicking from scratch. Importing the file will create all the needed Intents, utterances and Slot types. We can inspect if everything loaded OK and add some Uterances if needed. Afterwards we have to save the model and build it."
   ]
  },
  {
   "cell_type": "markdown",
   "metadata": {},
   "source": [
    "<video  width=\"100%\" height=\"auto\" style=\"display:block; margin: 0 auto;\" \n",
    "controls src=\"https://s3-eu-west-1.amazonaws.com/pg-demo-static-01/game/game_skill_builder.mp4\" \n",
    "\n",
    "\n",
    "/>\n"
   ]
  },
  {
   "cell_type": "markdown",
   "metadata": {},
   "source": [
    "## step IV\n",
    "### Backend configuration and testing\n",
    "Using the URL obtained from Zappa point the skill to the backend exposed as a lambda function. In the SSL configuration screen it is crucial to select second option from the available three choices. You can now test communication using text API. From this moment on your application is available on your Alexa enabled devices using your Amazon Developer account credentials."
   ]
  },
  {
   "cell_type": "markdown",
   "metadata": {},
   "source": [
    "<video  width=\"100%\" height=\"auto\" style=\"display:block; margin: 0 auto;\" \n",
    "controls src=\"https://s3-eu-west-1.amazonaws.com/pg-demo-static-01/game/game_backend_config_testing.webm\" \n",
    "\n",
    "\n",
    "/>\n"
   ]
  },
  {
   "cell_type": "markdown",
   "metadata": {},
   "source": [
    "### now you can test your application on your alexa enabled device or echosim.io website\n",
    "When logged into your Amazon Developer's account you can invoke the app saying:<br>\n",
    "<i>Alexa, ask [your choden Invocation Name] </i> <br>\n",
    "<i>Alexa, ask [your choden Invocation Name] start game</i><br>\n"
   ]
  }
 ],
 "metadata": {
  "kernelspec": {
   "display_name": "Python 2",
   "language": "python",
   "name": "python2"
  },
  "language_info": {
   "codemirror_mode": {
    "name": "ipython",
    "version": 2
   },
   "file_extension": ".py",
   "mimetype": "text/x-python",
   "name": "python",
   "nbconvert_exporter": "python",
   "pygments_lexer": "ipython2",
   "version": "2.7.13"
  }
 },
 "nbformat": 4,
 "nbformat_minor": 2
}
