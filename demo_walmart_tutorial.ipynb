{
 "cells": [
  {
   "cell_type": "markdown",
   "metadata": {
    "collapsed": true
   },
   "source": [
    "# Create custom product search Alexa Skill  using  python Walmart API"
   ]
  },
  {
   "cell_type": "markdown",
   "metadata": {},
   "source": [
    "## Step 0 \n",
    "### Prepare backend with zappa\n",
    "\n",
    "<li>from PGIT_exercise_1 catalog perform:</li>\n",
    "<i>cd demo_opther_api</i>\n",
    "<li>create a zappa configuration file by typing (you can leave prompts empty for default selections):</li>\n",
    "<i>zappa init</i>\n",
    "<li>deploy project to AWS lambda (you can leave prompts empty for default selections)</li>\n",
    "<i>zappa deploy dev</i>\n",
    "<li>update project</li>\n",
    "<i>zappa update dev</i>\n",
    "\n",
    "<strong>note down the address of you lambda service, in my case it is: <br>  https://wdyt97v12b.execute-api.us-east-1.amazonaws.com/dev</strong>\n",
    "\n",
    "(video below depicts same process but for the other skill)"
   ]
  },
  {
   "cell_type": "markdown",
   "metadata": {},
   "source": [
    "<video  width=\"70%\" height=\"auto\" style=\"display:block; margin: 0 auto;\" \n",
    "controls src=\"https://s3-eu-west-1.amazonaws.com/pg-demo-static-01/game/game_zappa_deploy.webm\" \n",
    "\n",
    "\n",
    "/>\n"
   ]
  },
  {
   "cell_type": "markdown",
   "metadata": {},
   "source": [
    "### add trigger for alexa to created lambda function (demo-other-api-dev)\n",
    "(video below depicts same process but for the other skill)"
   ]
  },
  {
   "cell_type": "markdown",
   "metadata": {},
   "source": [
    "<video  width=\"70%\" height=\"auto\" style=\"display:block; margin: 0 auto;\" \n",
    "controls src=\"https://s3-eu-west-1.amazonaws.com/pg-demo-static-01/game/add_lambda_trigger.webm\" \n",
    "\n",
    "\n",
    "/>"
   ]
  },
  {
   "cell_type": "markdown",
   "metadata": {},
   "source": [
    "## step I\n",
    "### create new Skill\n",
    "Login to Amazon Developer Console and create a new Alexa App."
   ]
  },
  {
   "cell_type": "markdown",
   "metadata": {},
   "source": [
    "<video  width=\"70%\" height=\"auto\" style=\"display:block; margin: 0 auto;\" \n",
    "controls src=\"https://s3-eu-west-1.amazonaws.com/pg-demo-static-01/create_skill.webm\" \n",
    "\n",
    "\n",
    "/>\n"
   ]
  },
  {
   "cell_type": "markdown",
   "metadata": {
    "collapsed": true
   },
   "source": [
    "## step II \n",
    "### Fill Skill information\n",
    "Initialize the skill using  Name of your choice. Choose Invocation name for your skill. It will be used to summon the application using \"Alexa, ask My Products....\"."
   ]
  },
  {
   "cell_type": "markdown",
   "metadata": {},
   "source": [
    "<video  width=\"70%\" height=\"auto\" style=\"display:block; margin: 0 auto;\" \n",
    "controls src=\"https://s3-eu-west-1.amazonaws.com/pg-demo-static-01/wallmart_skill_information.webm\" \n",
    "\n",
    "\n",
    "/>\n"
   ]
  },
  {
   "cell_type": "markdown",
   "metadata": {},
   "source": [
    "## step III\n",
    "### Design the Interaction Model\n",
    "Setup the needed Intents that are in line with your backend code. Remeber to fill in the exact intents slots that are used in the python code. When done save the model and push \"Build Model\" button. It will trigger the model building and you are good to go to the next skill design section."
   ]
  },
  {
   "cell_type": "markdown",
   "metadata": {},
   "source": [
    "<video  width=\"100%\" height=\"auto\" style=\"display:block; margin: 0 auto;\" \n",
    "controls src=\"https://s3-eu-west-1.amazonaws.com/pg-demo-static-01/wallmart_skill_builder.webm\" \n",
    "\n",
    "\n",
    "/>\n"
   ]
  },
  {
   "cell_type": "markdown",
   "metadata": {},
   "source": [
    "## step IV\n",
    "### Backend Configuration and testing\n",
    "Using the URL obtained from Zappa point the skill to the backend exposed as a lambda function. In the SSL configuration screen it is crucial to select second option from the available three choices. You can now test communication using text api. At the same time your application is available on your Alexa enabled devices."
   ]
  },
  {
   "cell_type": "markdown",
   "metadata": {},
   "source": [
    "<video  width=\"70%\" height=\"auto\" style=\"display:block; margin: 0 auto;\" \n",
    "controls src=\"https://s3-eu-west-1.amazonaws.com/pg-demo-static-01/wallmart_backend_setup_and_test.webm\" \n",
    "\n",
    "\n",
    "/>\n"
   ]
  },
  {
   "cell_type": "markdown",
   "metadata": {},
   "source": [
    "### now you can test your application on your alexa enabled device or echosim.io website\n",
    "When logged into your Amazon Developer's account you can invoke the app saying:<br>\n",
    "<i>Alexa, ask [your choden Invocation Name] find Pampers</i> <br>\n",
    "<i>Alexa, ask [your choden Invocation Name] find Pampers diapers</i><br>\n",
    "<i>Alexa, ask [your choden Invocation Name] find Pampers diapers five</i>"
   ]
  }
 ],
 "metadata": {
  "kernelspec": {
   "display_name": "Python 2",
   "language": "python",
   "name": "python2"
  },
  "language_info": {
   "codemirror_mode": {
    "name": "ipython",
    "version": 2
   },
   "file_extension": ".py",
   "mimetype": "text/x-python",
   "name": "python",
   "nbconvert_exporter": "python",
   "pygments_lexer": "ipython2",
   "version": "2.7.13"
  }
 },
 "nbformat": 4,
 "nbformat_minor": 2
}
