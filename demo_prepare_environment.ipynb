{
 "cells": [
  {
   "cell_type": "markdown",
   "metadata": {},
   "source": [
    "# Cloning repository and preparing virtual environment\n"
   ]
  },
  {
   "cell_type": "markdown",
   "metadata": {},
   "source": [
    "In order to use the codes you have to clone the github repository and prepare the Python virtualenv with required packages <br>\n"
   ]
  },
  {
   "cell_type": "markdown",
   "metadata": {},
   "source": [
    "a)First step is to clone the Github repository using<br>\n",
    "<i>git clone https://github.com/iteuropehackathon/prework.git</i> <br>\n",
    "\n",
    "b) install virtualenv package <br>\n",
    "    <i>pip install virtualenv</i>\n",
    "    \n",
    "c) Create virtual enviroment<br>\n",
    "    <i>virtualenv pg_venv</i> <br>\n",
    "\n",
    "A directory named pg_venv now exists inside PGIT_exercise_1<br>\n",
    "\n",
    "d) Activate virtual enviroment<br>\n",
    "    <i>source pg_venv/bin/activate (Unix)</i><br>\n",
    "    <i>pg_venv\\Scripts\\activate (Windows)</i><br>\n",
    "    \n",
    "After that you should see the name of virtual enviroment (pg_venv) in the left side of terminal\n",
    "The virtual environment can be deactivated at any time by typing deactivate or closing the terminal.\n",
    "\n",
    "e) install required packages for all of the sample skills<br>\n",
    "    <i>pip install flask-ask zappa requests awscli boto3 wapy</i><br>\n",
    "\n",
    " f)   <i>$ aws configure </i><br>\n",
    "Follow the prompts to input your Access key ID and Secret access key. For Default region name, type: us-east-1. For Default output format accept the default by hitting the Enter key.",

    
    "\n",
    "<strong>Now the environment is ready for Skill deployment</strong>"
   ]
  },
  {
   "cell_type": "markdown",
   "metadata": {},
   "source": [
    "\n",
    "<video  width=\"70%\" height=\"auto\" style=\"display:block; margin: 0 auto;\" \n",
    "controls src=\"https://s3-eu-west-1.amazonaws.com/pg-demo-static-01/game/prepare_env.webm\" \n",
    "\n",
    "\n",
    "/>\n"
   ]
  }
 ],
 "metadata": {
  "kernelspec": {
   "display_name": "Python 2",
   "language": "python",
   "name": "python2"
  },
  "language_info": {
   "codemirror_mode": {
    "name": "ipython",
    "version": 2
   },
   "file_extension": ".py",
   "mimetype": "text/x-python",
   "name": "python",
   "nbconvert_exporter": "python",
   "pygments_lexer": "ipython2",
   "version": "2.7.13"
  }
 },
 "nbformat": 4,
 "nbformat_minor": 2
}
